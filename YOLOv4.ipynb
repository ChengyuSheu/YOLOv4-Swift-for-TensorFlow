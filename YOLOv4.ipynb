{
 "cells": [
  {
   "cell_type": "code",
   "execution_count": null,
   "metadata": {
    "scrolled": true
   },
   "outputs": [],
   "source": [
    "%install '.package(path: \"$cwd\")' YOLOv4\n",
    "%install '.package(url: \"https://github.com/tensorflow/swift-models\", .branch(\"tensorflow-0.9\"))' ModelSupport\n",
    "import TensorFlow\n",
    "import YOLOv4\n",
    "import ModelSupport\n",
    "import Foundation"
   ]
  },
  {
   "cell_type": "code",
   "execution_count": null,
   "metadata": {},
   "outputs": [],
   "source": [
    "let imageURL = URL(fileURLWithPath: \"Images/dog_512.jpg\")\n",
    "let img = Image(jpeg: imageURL)\n",
    "var im = img.tensor.reshaped(to: [1,512,512,3]) / 255\n",
    "var yolov4 = YOLOv4<Float>(cls:80).load(fileAtPath: \"yolov4.weights\")\n"
   ]
  },
  {
   "cell_type": "code",
   "execution_count": null,
   "metadata": {},
   "outputs": [],
   "source": [
    "yolov4.yoloHead1.test = true\n",
    "yolov4.yoloHead2.test = true\n",
    "yolov4.yoloHead3.test = true"
   ]
  },
  {
   "cell_type": "code",
   "execution_count": null,
   "metadata": {},
   "outputs": [],
   "source": [
    "var y: Tensor<Float> = im |> yolov4\n",
    "var boxes: [Bbox] = load(from: y)\n",
    "var x: [Bbox] = nms(bboxes: boxes, thresh: 0.25, thresh_iou: 0.45)"
   ]
  }
 ],
 "metadata": {
  "kernelspec": {
   "display_name": "Swift",
   "language": "swift",
   "name": "swift"
  },
  "language_info": {
   "file_extension": ".swift",
   "mimetype": "text/x-swift",
   "name": "swift",
   "version": ""
  }
 },
 "nbformat": 4,
 "nbformat_minor": 4
}
