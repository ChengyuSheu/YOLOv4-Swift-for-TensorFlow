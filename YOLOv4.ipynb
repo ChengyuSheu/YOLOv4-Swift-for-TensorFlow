{
 "cells": [
  {
   "cell_type": "code",
   "execution_count": 1,
   "metadata": {
    "scrolled": false
   },
   "outputs": [
    {
     "name": "stdout",
     "output_type": "stream",
     "text": [
      "Installing packages:\n",
      "\t.package(path: \"/notebooks/YOLOv4\")\n",
      "\t\tYOLOv4\n",
      "With SwiftPM flags: []\n",
      "Working in: /tmp/tmpkpxzqswe/swift-install\n",
      "[1/4] Compiling YOLOv4 YOLOv4.swift\n",
      "/notebooks/YOLOv4/Sources/YOLOv4.swift:10:27: warning: redundant conformance constraint 'Features': 'Differentiable'\n",
      "public func |> <Features: Differentiable, Func: Layer>(left: Func.Input, right:Func) -> Func.Output where Features == Func.Input {\n",
      "                          ^\n",
      "/notebooks/YOLOv4/Sources/YOLOv4.swift:10:49: note: conformance constraint 'Features': 'Differentiable' implied here\n",
      "public func |> <Features: Differentiable, Func: Layer>(left: Func.Input, right:Func) -> Func.Output where Features == Func.Input {\n",
      "                                                ^\n",
      "[2/5] Merging module YOLOv4\n",
      "[3/6] Wrapping AST for YOLOv4 for debugging\n",
      "[4/6] Compiling jupyterInstalledPackages jupyterInstalledPackages.swift\n",
      "[5/7] Merging module jupyterInstalledPackages\n",
      "[6/7] Wrapping AST for jupyterInstalledPackages for debugging\n",
      "[7/7] Linking libjupyterInstalledPackages.so\n",
      "Initializing Swift...\n",
      "Installation complete!\n"
     ]
    }
   ],
   "source": [
    "%install '.package(path: \"$cwd/YOLOv4\")' YOLOv4\n",
    "import TensorFlow\n",
    "import YOLOv4"
   ]
  },
  {
   "cell_type": "code",
   "execution_count": null,
   "metadata": {},
   "outputs": [],
   "source": []
  },
  {
   "cell_type": "code",
   "execution_count": 2,
   "metadata": {},
   "outputs": [
    {
     "name": "stdout",
     "output_type": "stream",
     "text": [
      "[[[  3.3264469e-06,  -2.1009526e-05,  -2.0867712e-05, ...,  -1.4366923e-07,\r\n",
      "     -3.077563e-08,  -1.8900792e-08],\r\n",
      "  [  -3.226304e-05,  -1.0938505e-05,  -2.9647788e-05, ...,  -9.1466696e-08,\r\n",
      "     -6.797588e-08,    7.038947e-08],\r\n",
      "  [ -1.1371455e-05,   1.0602875e-05,   2.3008903e-05, ...,  -2.0322915e-07,\r\n",
      "    -1.9045471e-07,  -1.5011473e-07],\r\n",
      "  ...,\r\n",
      "  [   8.421959e-06,   1.8719751e-05,   5.4644624e-07, ...,   1.1846028e-07,\r\n",
      "     1.9455237e-07,   1.2247384e-07],\r\n",
      "  [  -6.540129e-06,   2.1672126e-06,   -2.033667e-05, ...,  -1.2976294e-07,\r\n",
      "      -7.89294e-08,  -5.6469522e-09],\r\n",
      "  [  1.2360367e-05,   -3.488159e-06,  -1.3749217e-05, ...,    1.352265e-07,\r\n",
      "     1.8675182e-08,    8.508319e-08]]]\r\n"
     ]
    }
   ],
   "source": [
    "var x = Tensor<Float>(randomNormal: [1,416,416,3])\n",
    "var yolo = YOLOv4<Float>(cls:80)\n",
    "print((x |> yolo))"
   ]
  },
  {
   "cell_type": "code",
   "execution_count": 3,
   "metadata": {},
   "outputs": [],
   "source": [
    "import Dispatch\n",
    "func time(_ function: () -> ()) {\n",
    "    let start = DispatchTime.now()\n",
    "    function()\n",
    "    let end = DispatchTime.now()\n",
    "    let nanoseconds = Double(end.uptimeNanoseconds - start.uptimeNanoseconds)\n",
    "    let milliseconds = nanoseconds / 1e6\n",
    "    // Could do fancier pretty-printing logic based on the order of magnitude.\n",
    "    print(\"\\(milliseconds) ms\")\n",
    "}\n",
    "\n",
    "func time(re: Int, _ function: () -> ()) {\n",
    "    time{\n",
    "        for i in 1...re {\n",
    "            function()\n",
    "                        }\n",
    "        }\n",
    "  // Run it a few times and calculate mean and stdev.\n",
    "}"
   ]
  },
  {
   "cell_type": "code",
   "execution_count": 9,
   "metadata": {},
   "outputs": [
    {
     "name": "stdout",
     "output_type": "stream",
     "text": [
      "7780.0279 ms\r\n"
     ]
    }
   ],
   "source": [
    "time(re:10){\n",
    "    var x = Tensor<Float>(randomNormal: [1,416,416,3])\n",
    "    x |> yolo\n",
    "           }"
   ]
  },
  {
   "cell_type": "code",
   "execution_count": 28,
   "metadata": {},
   "outputs": [
    {
     "name": "stdout",
     "output_type": "stream",
     "text": [
      "Fatal error: You must link or load module FoundationNetworking to load non-file: URL content using String(contentsOf:…), Data(contentsOf:…), etc.: file /swift-base/swift-corelibs-foundation/Sources/Foundation/NSSwiftRuntime.swift, line 401\r\n",
      "Current stack trace:\r\n",
      "0    libswiftCore.so                    0x00007f3c7c57c160 swift_reportError + 50\r\n",
      "1    libswiftCore.so                    0x00007f3c7c5eec20 _swift_stdlib_reportFatalErrorInFile + 115\r\n",
      "2    libswiftCore.so                    0x00007f3c7c293cb5 <unavailable> + 1506485\r\n",
      "3    libswiftCore.so                    0x00007f3c7c2938f7 <unavailable> + 1505527\r\n",
      "4    libswiftCore.so                    0x00007f3c7c293e92 <unavailable> + 1506962\r\n",
      "5    libswiftCore.so                    0x00007f3c7c2922e0 _assertionFailure(_:_:file:line:flags:) + 517\r\n",
      "6    libFoundation.so                   0x00007f3c0d399304 <unavailable> + 6914820\r\n",
      "7    libFoundation.so                   0x00007f3c0d222507 <unavailable> + 5379335\r\n",
      "8    libFoundation.so                   0x00007f3c0d222710 NSData.init(contentsOf:) + 985\r\n"
     ]
    },
    {
     "ename": "",
     "evalue": "",
     "output_type": "error",
     "traceback": [
      "Current stack trace:",
      "\tframe #4: 0x00007f3c0e0e1160 $__lldb_expr143`readFileToInt32(path:) [inlined] Foundation.NSData.__allocating_init(contentsOf: Foundation.URL) -> Swift.Optional<Foundation.NSData> at <Cell 28>:0:48",
      "\tframe #5: 0x00007f3c0e0e1150 $__lldb_expr143`readFileToInt32(path=some) at <Cell 28>:5",
      "\tframe #6: 0x00007f3c0e0e1068 $__lldb_expr143`main at <Cell 28>:25:9"
     ]
    }
   ],
   "source": [
    "import Foundation\n",
    "\n",
    "func readFileToInt32 (path: URL?) -> [Int32] {\n",
    "    var numbers: [Int32] = []\n",
    "    if let data: Data = NSData(contentsOf: path!) as Data?  {\n",
    "        var iter = data.makeIterator()\n",
    "        while true {\n",
    "            guard\n",
    "                let b1 = iter.next(),\n",
    "                let b2 = iter.next(),\n",
    "            let b3 = iter.next(),\n",
    "            let b4 = iter.next()\n",
    "                else {\n",
    "                    break\n",
    "                }\n",
    "            let num = Int32(b4) << 24 | Int32(b3) << 16 | Int32(b2) << 8 | Int32(b1)\n",
    "            numbers.append(num)\n",
    "        }\n",
    "    }else{\n",
    "       print (\"in readFileToInt16...read file failed\")\n",
    "    }\n",
    "    return numbers\n",
    "}\n",
    "\n",
    "var x = readFileToInt32(path: URL(string:\"$cwd/yolov4.weights\"))"
   ]
  },
  {
   "cell_type": "code",
   "execution_count": 18,
   "metadata": {},
   "outputs": [
    {
     "name": "stdout",
     "output_type": "stream",
     "text": [
      "0.0\r\n",
      "3e-45\r\n",
      "0.0\r\n",
      "8.540127e-38\r\n",
      "0.0\r\n",
      "-4.316885\r\n",
      "-0.7578076\r\n",
      "-2.1098018\r\n",
      "1.7402638\r\n",
      "1.4071269\r\n",
      "-3.0952053\r\n",
      "-0.38860837\r\n",
      "0.75603795\r\n",
      "1.982805\r\n",
      "1.2893223\r\n",
      "0.652888\r\n",
      "2.6263633\r\n",
      "2.3013082\r\n",
      "-2.04827\r\n",
      "-3.7340226\r\n",
      "-2.0467598\r\n",
      "3.845535\r\n",
      "-1.0419698\r\n",
      "-0.30135924\r\n",
      "-0.35420752\r\n",
      "-3.5354283\r\n",
      "-2.628548\r\n",
      "0.74821305\r\n",
      "0.3917957\r\n",
      "2.3627155\r\n",
      "-1.7907225\r\n",
      "2.5973146\r\n",
      "-0.34963462\r\n",
      "-2.6972923\r\n",
      "-2.688753\r\n",
      "0.99702346\r\n",
      "-0.20098142\r\n",
      "2.6223972\r\n",
      "1.3536469\r\n",
      "1.6286678\r\n",
      "0.99905145\r\n",
      "-1.0922571\r\n",
      "2.6365428\r\n",
      "0.9870672\r\n",
      "1.6019626\r\n",
      "0.8613433\r\n",
      "-1.3214242\r\n",
      "1.1380545\r\n",
      "1.0997647\r\n",
      "1.7826979\r\n",
      "1.5409452\r\n",
      "2.5057783\r\n",
      "1.8394158\r\n",
      "0.9597077\r\n",
      "1.506216\r\n",
      "1.1141889\r\n",
      "1.1447448\r\n",
      "1.7145146\r\n",
      "-2.1283774\r\n",
      "-1.0026759\r\n",
      "-1.4917758\r\n",
      "0.65230376\r\n",
      "1.4994049\r\n",
      "1.6686112\r\n",
      "1.1225682\r\n",
      "2.2276077\r\n",
      "2.1827738\r\n",
      "1.1739247\r\n",
      "1.1685042\r\n",
      "-0.5719402\r\n",
      "-0.7738392\r\n",
      "-0.28336832\r\n",
      "0.39322987\r\n",
      "0.007807612\r\n",
      "-0.6109912\r\n",
      "-0.16133149\r\n",
      "-0.22186707\r\n",
      "-0.29902607\r\n",
      "0.117041886\r\n",
      "-0.0055340216\r\n",
      "0.017555995\r\n",
      "-0.02504491\r\n",
      "0.0042533753\r\n",
      "0.42962\r\n",
      "-0.44072402\r\n",
      "-0.2520025\r\n",
      "-0.21482663\r\n",
      "-0.0024812848\r\n",
      "-0.2174843\r\n",
      "-0.78819096\r\n",
      "0.4381482\r\n",
      "-0.06644736\r\n",
      "0.111937724\r\n",
      "0.47471324\r\n",
      "-0.006802341\r\n",
      "0.05487546\r\n",
      "-0.0023503925\r\n",
      "0.5519605\r\n",
      "-0.60440457\r\n",
      "0.1623201\r\n"
     ]
    }
   ],
   "source": [
    "import Foundation\n",
    "\n",
    "func floatValue(data: Data) -> Float {\n",
    "    return Float(bitPattern: UInt32(bigEndian: data.withUnsafeBytes { $0.load(as: UInt32.self) }))\n",
    "}\n",
    "\n",
    "if let stream:InputStream = InputStream(fileAtPath: \"yolov3.weights\") {\n",
    "            var buf:[UInt8] = [UInt8](repeating: 0, count: 4)\n",
    "            stream.open()\n",
    "            for i in 1...100 {\n",
    "                let len = stream.read(&buf, maxLength: buf.count) \n",
    "                //print(\"len \\(len)\")\n",
    "                buf.reverse()\n",
    "                print(floatValue(data:Data(bytes: buf, count: 4)))\n",
    "                \n",
    "                if len < buf.count {\n",
    "                    break\n",
    "                }\n",
    "            }\n",
    "            stream.close()\n",
    "        }"
   ]
  },
  {
   "cell_type": "code",
   "execution_count": null,
   "metadata": {},
   "outputs": [],
   "source": []
  }
 ],
 "metadata": {
  "kernelspec": {
   "display_name": "Swift",
   "language": "swift",
   "name": "swift"
  },
  "language_info": {
   "file_extension": ".swift",
   "mimetype": "text/x-swift",
   "name": "swift",
   "version": ""
  }
 },
 "nbformat": 4,
 "nbformat_minor": 4
}
