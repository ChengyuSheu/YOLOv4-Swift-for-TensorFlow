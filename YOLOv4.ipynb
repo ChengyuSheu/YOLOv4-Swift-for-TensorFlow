{
 "cells": [
  {
   "cell_type": "code",
   "execution_count": 1,
   "metadata": {
    "scrolled": true
   },
   "outputs": [
    {
     "name": "stdout",
     "output_type": "stream",
     "text": [
      "Installing packages:\n",
      "\t.package(path: \"/notebooks/YOLOv4\")\n",
      "\t\tYOLOv4\n",
      "With SwiftPM flags: []\n",
      "Working in: /tmp/tmprv5fmd0v/swift-install\n",
      "[1/4] Compiling YOLOv4 YOLOv4.swift\n",
      "/notebooks/YOLOv4/Sources/YOLOv4/YOLOv4.swift:10:27: warning: redundant conformance constraint 'Features': 'Differentiable'\n",
      "public func |> <Features: Differentiable, Func: Layer>(left: Func.Input, right:Func) -> Func.Output where Features == Func.Input {\n",
      "                          ^\n",
      "/notebooks/YOLOv4/Sources/YOLOv4/YOLOv4.swift:10:49: note: conformance constraint 'Features': 'Differentiable' implied here\n",
      "public func |> <Features: Differentiable, Func: Layer>(left: Func.Input, right:Func) -> Func.Output where Features == Func.Input {\n",
      "                                                ^\n",
      "[2/5] Merging module YOLOv4\n",
      "[3/5] Wrapping AST for YOLOv4 for debugging\n",
      "[4/6] Compiling jupyterInstalledPackages jupyterInstalledPackages.swift\n",
      "[5/7] Merging module jupyterInstalledPackages\n",
      "[6/7] Wrapping AST for jupyterInstalledPackages for debugging\n",
      "[7/7] Linking libjupyterInstalledPackages.so\n",
      "Initializing Swift...\n",
      "Installation complete!\n"
     ]
    }
   ],
   "source": [
    "%install '.package(path: \"$cwd/YOLOv4\")' YOLOv4"
   ]
  },
  {
   "cell_type": "code",
   "execution_count": null,
   "metadata": {},
   "outputs": [],
   "source": [
    "\n",
    "\n",
    "public struct YOLOv4: Layer {\n",
    "  public var backbone: Layer\n",
    "  public var middle: Layer\n",
    "  public var head: Layer\n",
    "\n",
    "  @differentiable\n",
    "  public func callAsFunction(_ input: Tensor<Float>) -> Tensor<Float> {\n",
    "    return input |> backbone |> middle |> head\n",
    "  }\n",
    "\n",
    "}\n",
    "\n",
    "\n",
    "// Apply the model to a batch of features.\n",
    "let firstTrainPredictions = model(firstTrainFeatures)\n",
    "firstTrainPredictions[0..<5]"
   ]
  },
  {
   "cell_type": "code",
   "execution_count": null,
   "metadata": {},
   "outputs": [],
   "source": []
  },
  {
   "cell_type": "code",
   "execution_count": null,
   "metadata": {},
   "outputs": [],
   "source": []
  }
 ],
 "metadata": {
  "kernelspec": {
   "display_name": "Swift",
   "language": "swift",
   "name": "swift"
  },
  "language_info": {
   "file_extension": ".swift",
   "mimetype": "text/x-swift",
   "name": "swift",
   "version": ""
  }
 },
 "nbformat": 4,
 "nbformat_minor": 4
}
